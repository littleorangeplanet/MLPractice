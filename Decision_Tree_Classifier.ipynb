{
 "cells": [
  {
   "cell_type": "markdown",
   "metadata": {},
   "source": [
    "# Machine Learning Practice\n",
    "## Build Decision Tree Classifier using Scikit-learn"
   ]
  },
  {
   "cell_type": "markdown",
   "metadata": {},
   "source": [
    "Preparing a Training Set and Training a Decision Tree\n",
    "\n",
    "These historical data consist of 39,859 customers: 19,901 customers that churned (i.e., left the company) and 19,958 that did not churn (see the `\"churndep\"` variable). Here are the data set's 11 possible predictor variables for churning behavior: \n",
    "\n",
    "```\n",
    "Pos.  Var. Name  Var. Description\n",
    "----- ---------- --------------------------------------------------------------\n",
    "1     revenue    Mean monthly revenue in dollars\n",
    "2     outcalls   Mean number of outbound voice calls\n",
    "3     incalls    Mean number of inbound voice calls\n",
    "4     months     Months in Service\n",
    "5     eqpdays    Number of days the customer has had his/her current equipment\n",
    "6     webcap     Handset is web capable\n",
    "7     marryyes   Married (1=Yes; 0=No)\n",
    "8     travel     Has traveled to non-US country (1=Yes; 0=No)\n",
    "9     pcown      Owns a personal computer (1=Yes; 0=No)\n",
    "10    creditcd   Possesses a credit card (1=Yes; 0=No)\n",
    "11    retcalls   Number of calls previously made to retention team\n",
    "```\n",
    "\n",
    "The 12th column, the dependent variable `\"churndep\"`, equals 1 if the customer churned, and 0 otherwise. "
   ]
  },
  {
   "cell_type": "markdown",
   "metadata": {},
   "source": [
    "Two data frames: train_df and test_df, where train_df has 80% of the data chosen uniformly at random without replacement (test_df should have the other 20%)."
   ]
  },
  {
   "cell_type": "code",
   "execution_count": 16,
   "metadata": {
    "collapsed": false
   },
   "outputs": [],
   "source": [
    "import pandas as pd\n",
    "import os\n",
    "\n",
    "cwd = os.getcwd()\n",
    "doc = cwd+\"/data/cell2cell_data.csv\"\n",
    "df = pd.read_csv(doc, header=None, sep=',', names=['revenue','outcalls','incalls','months','eqpdays','webcap','marryyes','travel','pcown','creditcd','retcalls','churndep' ])\n",
    "df.index += 1\n",
    "train_df=df.sample(frac=0.8).sort_index(ascending=True)\n",
    "test_df=df.sample(frac=0.2).sort_index(ascending=True)"
   ]
  },
  {
   "cell_type": "markdown",
   "metadata": {},
   "source": [
    "Bin the indices and you can see the number of items to prove to ourselves or a colleague that our data was indeed randomly sampled on X. In each bin you can see is generally about the same."
   ]
  },
  {
   "cell_type": "code",
   "execution_count": 17,
   "metadata": {
    "collapsed": false
   },
   "outputs": [
    {
     "data": {
      "text/plain": [
       "(1000, 3000]      1606\n",
       "(3000, 5000]      1589\n",
       "(5000, 7000]      1595\n",
       "(7000, 9000]      1599\n",
       "(9000, 11000]     1618\n",
       "(11000, 13000]    1602\n",
       "(13000, 15000]    1602\n",
       "(15000, 17000]    1608\n",
       "(17000, 19000]    1613\n",
       "(19000, 21000]    1567\n",
       "(21000, 23000]    1620\n",
       "(23000, 25000]    1611\n",
       "(25000, 27000]    1593\n",
       "(27000, 29000]    1604\n",
       "(29000, 31000]    1570\n",
       "(31000, 33000]    1613\n",
       "(33000, 35000]    1591\n",
       "(35000, 37000]    1617\n",
       "(37000, 39000]    1612\n",
       "Name: revenue, dtype: int64"
      ]
     },
     "execution_count": 17,
     "metadata": {},
     "output_type": "execute_result"
    }
   ],
   "source": [
    "import numpy as np\n",
    "train_df['revenue'].groupby(pd.cut(train_df.index, np.arange(1000, 39859, 2000))).count()"
   ]
  },
  {
   "cell_type": "code",
   "execution_count": 18,
   "metadata": {
    "collapsed": false
   },
   "outputs": [
    {
     "data": {
      "text/plain": [
       "(1000, 3000]      378\n",
       "(3000, 5000]      414\n",
       "(5000, 7000]      400\n",
       "(7000, 9000]      434\n",
       "(9000, 11000]     427\n",
       "(11000, 13000]    410\n",
       "(13000, 15000]    386\n",
       "(15000, 17000]    355\n",
       "(17000, 19000]    398\n",
       "(19000, 21000]    400\n",
       "(21000, 23000]    410\n",
       "(23000, 25000]    432\n",
       "(25000, 27000]    361\n",
       "(27000, 29000]    405\n",
       "(29000, 31000]    405\n",
       "(31000, 33000]    401\n",
       "(33000, 35000]    412\n",
       "(35000, 37000]    391\n",
       "(37000, 39000]    379\n",
       "Name: revenue, dtype: int64"
      ]
     },
     "execution_count": 18,
     "metadata": {},
     "output_type": "execute_result"
    }
   ],
   "source": [
    "test_df['revenue'].groupby(pd.cut(test_df.index, np.arange(1000, 39859, 2000))).count()"
   ]
  },
  {
   "cell_type": "markdown",
   "metadata": {},
   "source": [
    "Build and train a decision tree classifier using `DecisionTreeClassifier()`"
   ]
  },
  {
   "cell_type": "code",
   "execution_count": 19,
   "metadata": {
    "collapsed": false
   },
   "outputs": [
    {
     "data": {
      "text/plain": [
       "DecisionTreeClassifier(class_weight=None, criterion='entropy', max_depth=None,\n",
       "            max_features=None, max_leaf_nodes=None,\n",
       "            min_impurity_split=1e-07, min_samples_leaf=1,\n",
       "            min_samples_split=2, min_weight_fraction_leaf=0.0,\n",
       "            presort=False, random_state=None, splitter='best')"
      ]
     },
     "execution_count": 19,
     "metadata": {},
     "output_type": "execute_result"
    }
   ],
   "source": [
    "import sklearn\n",
    "from sklearn.tree import DecisionTreeClassifier\n",
    "\n",
    "y_axis = train_df['churndep']\n",
    "x_axis = train_df.drop('churndep', 1)\n",
    "dt = DecisionTreeClassifier(criterion = 'entropy')\n",
    "dt.fit(x_axis, y_axis)"
   ]
  },
  {
   "cell_type": "markdown",
   "metadata": {},
   "source": [
    "Plot feature names and their feature importance "
   ]
  },
  {
   "cell_type": "code",
   "execution_count": 20,
   "metadata": {
    "collapsed": false
   },
   "outputs": [
    {
     "data": {
      "image/png": "[encoded data removed]",
      "text/plain": [
       "<matplotlib.figure.Figure at 0x115883898>"
      ]
     },
     "metadata": {},
     "output_type": "display_data"
    }
   ],
   "source": [
    "import matplotlib.pyplot as plt\n",
    "%matplotlib inline\n",
    "\n",
    "features = x_axis.columns\n",
    "feature_importances = dt.feature_importances_\n",
    "\n",
    "plt.figure(figsize=(20,10))\n",
    "plt.bar(range(len(feature_importances)), feature_importances, align='center', width=0.8)\n",
    "plt.xticks(range(len(features)), features)\n",
    "plt.show()"
   ]
  },
  {
   "cell_type": "code",
   "execution_count": 21,
   "metadata": {
    "collapsed": false
   },
   "outputs": [
    {
     "data": {
      "text/plain": [
       "{'eqpdays': (0.11273099331643338, 7.1757895400168627e-113),\n",
       " 'incalls': (-0.042030982085479285, 4.6663334045344063e-17),\n",
       " 'outcalls': (-0.037233028525035905, 1.0392561778224583e-13),\n",
       " 'revenue': (-0.01356608186764215, 0.0067594265290888706)}"
      ]
     },
     "execution_count": 21,
     "metadata": {},
     "output_type": "execute_result"
    }
   ],
   "source": [
    "import scipy\n",
    "\n",
    "importance_list = pd.DataFrame(feature_importances,index=features,columns=[\"feature_importances\"])\n",
    "factors = importance_list.sort_values(by='feature_importances', axis=0, ascending=False)[0:4].index\n",
    "\n",
    "cor_dict={}\n",
    "\n",
    "for i in factors:\n",
    "    cor = scipy.stats.pearsonr(df[i], df['churndep'])\n",
    "    cor_dict[i]=cor\n",
    "\n",
    "cor_dict"
   ]
  },
  {
   "cell_type": "markdown",
   "metadata": {},
   "source": [
    "There are strong and positive relations between variable 'eqpdays' and churn rate, \n",
    "meaning the longer the customer has had his/her current equipment, the easier the customer would leave.\n",
    "'incalls' has negative relations with churn rate and the correlation is also very significant.\n",
    "'outcalls' and 'revenue' have negative relations as well but not as significant as the two variables mentioned above.\n",
    "In conclusion, monitor 'eqpdays' and 'incalls' closely and try to control the 'eqpdays' and encourage  "
   ]
  },
  {
   "cell_type": "markdown",
   "metadata": {},
   "source": [
    "Predict `\"churndep\"` on both the train_df and test_df data sets and find out the accuracy on each."
   ]
  },
  {
   "cell_type": "code",
   "execution_count": 62,
   "metadata": {
    "collapsed": false
   },
   "outputs": [],
   "source": [
    "y_test = test_df['churndep']\n",
    "x_test = test_df.drop('churndep', 1)\n",
    "\n",
    "pre_train = dt.predict(x_axis, check_input=True)\n",
    "pre_test = dt.predict(x_test, check_input=True)\n",
    "\n",
    "train_accuracy = dt.score(x_axis, y_axis, sample_weight=None)\n",
    "test_accuracy = dt.score(x_test, y_test, sample_weight=None)"
   ]
  },
  {
   "cell_type": "code",
   "execution_count": 63,
   "metadata": {
    "collapsed": false
   },
   "outputs": [
    {
     "data": {
      "text/plain": [
       "array([1, 1, 1, ..., 0, 0, 0])"
      ]
     },
     "execution_count": 63,
     "metadata": {},
     "output_type": "execute_result"
    }
   ],
   "source": [
    "pre_train"
   ]
  },
  {
   "cell_type": "code",
   "execution_count": 64,
   "metadata": {
    "collapsed": false
   },
   "outputs": [
    {
     "data": {
      "text/plain": [
       "array([1, 1, 1, ..., 0, 0, 0])"
      ]
     },
     "execution_count": 64,
     "metadata": {},
     "output_type": "execute_result"
    }
   ],
   "source": [
    "pre_test"
   ]
  },
  {
   "cell_type": "code",
   "execution_count": 65,
   "metadata": {
    "collapsed": false
   },
   "outputs": [
    {
     "data": {
      "text/plain": [
       "0.99984319628688811"
      ]
     },
     "execution_count": 65,
     "metadata": {},
     "output_type": "execute_result"
    }
   ],
   "source": [
    "train_accuracy"
   ]
  },
  {
   "cell_type": "code",
   "execution_count": 66,
   "metadata": {
    "collapsed": false
   },
   "outputs": [
    {
     "data": {
      "text/plain": [
       "0.90792774711490221"
      ]
     },
     "execution_count": 66,
     "metadata": {},
     "output_type": "execute_result"
    }
   ],
   "source": [
    "test_accuracy"
   ]
  },
  {
   "cell_type": "markdown",
   "metadata": {},
   "source": [
    "Prune the tree to find a good Decision Tree by adjust the parameters"
   ]
  },
  {
   "cell_type": "markdown",
   "metadata": {},
   "source": [
    "Generate a list of 10 values of each for the parameters mim_samples_split and min_samples_leaf. "
   ]
  },
  {
   "cell_type": "markdown",
   "metadata": {},
   "source": [
    "min_samples_split : int, float, optional (default=2)\n",
    "The minimum number of samples required to split an internal node:\n",
    "If int, then consider min_samples_split as the minimum number.\n",
    "If float, then min_samples_split is a percentage and ceil(min_samples_split * n_samples) are the minimum number of samples for each split.\n",
    "Changed in version 0.18: Added float values for percentages.\n",
    "min_samples_leaf : int, float, optional (default=1)\n",
    "The minimum number of samples required to be at a leaf node:\n",
    "If int, then consider min_samples_leaf as the minimum number.\n",
    "If float, then min_samples_leaf is a percentage and ceil(min_samples_leaf * n_samples) are the minimum number of samples for each node.\n",
    "Changed in version 0.18: Added float values for percentages."
   ]
  },
  {
   "cell_type": "code",
   "execution_count": 87,
   "metadata": {
    "collapsed": false
   },
   "outputs": [],
   "source": [
    "ran = list(range(12))\n",
    "min_samples_split = ran[2:]\n",
    "min_samples_leaf = ran[1:-1]"
   ]
  },
  {
   "cell_type": "code",
   "execution_count": 140,
   "metadata": {
    "collapsed": false
   },
   "outputs": [],
   "source": [
    "import matplotlib.pyplot as plt\n",
    "%matplotlib inline\n",
    "\n",
    "acc_dict={}\n",
    "for lv in min_samples_leaf:\n",
    "    accuracy = {}\n",
    "    for sv in min_samples_split:\n",
    "        dt = DecisionTreeClassifier(criterion = 'entropy', min_samples_split = sv, min_samples_leaf = lv)\n",
    "        dt.fit(x_axis, y_axis)\n",
    "        test_accuracy = dt.score(x_test, y_test, sample_weight=None)\n",
    "        accuracy[sv]=test_accuracy\n",
    "    acc_dict[lv] = accuracy"
   ]
  },
  {
   "cell_type": "code",
   "execution_count": 147,
   "metadata": {
    "collapsed": false
   },
   "outputs": [
    {
     "data": {
      "text/plain": [
       "<matplotlib.legend.Legend at 0x11d938f98>"
      ]
     },
     "execution_count": 147,
     "metadata": {},
     "output_type": "execute_result"
    },
    {
     "data": {
      "image/png": "[encoded data removed]",
      "text/plain": [
       "<matplotlib.figure.Figure at 0x11d9378d0>"
      ]
     },
     "metadata": {},
     "output_type": "display_data"
    }
   ],
   "source": [
    "plt.figure(figsize=(20,10))\n",
    "\n",
    "for i in min_samples_leaf:\n",
    "    plt.plot(list(acc_dict[i].keys()), list(acc_dict[i].values()))\n",
    "\n",
    "plt.ylabel('Accuracy')\n",
    "plt.xlabel('Split Minimun #')\n",
    "\n",
    "plt.legend(list(acc_dict.keys()), loc = 'upper center', bbox_to_anchor = (0.5, -0.15), fancybox = True, shadow = True, ncol = 10, prop = {'size':20})\n"
   ]
  },
  {
   "cell_type": "code",
   "execution_count": 146,
   "metadata": {
    "collapsed": false
   },
   "outputs": [
    {
     "data": {
      "text/plain": [
       "0.90642247867536374"
      ]
     },
     "execution_count": 146,
     "metadata": {},
     "output_type": "execute_result"
    }
   ],
   "source": [
    "# When Min # of split is 2 and leaf is 1, accuracy is the highest\n",
    "\n",
    "dt = DecisionTreeClassifier(criterion = 'entropy', min_samples_split = 2, min_samples_leaf = 1)        \n",
    "dt.fit(x_axis, y_axis)\n",
    "accuracy_best = dt.score(x_test, y_test, sample_weight=None)\n",
    "accuracy_best"
   ]
  }
 ],
 "metadata": {
  "kernelspec": {
   "display_name": "Python [Root]",
   "language": "python",
   "name": "Python [Root]"
  },
  "language_info": {
   "codemirror_mode": {
    "name": "ipython",
    "version": 3
   },
   "file_extension": ".py",
   "mimetype": "text/x-python",
   "name": "python",
   "nbconvert_exporter": "python",
   "pygments_lexer": "ipython3",
   "version": "3.5.2"
  }
 },
 "nbformat": 4,
 "nbformat_minor": 0
}
